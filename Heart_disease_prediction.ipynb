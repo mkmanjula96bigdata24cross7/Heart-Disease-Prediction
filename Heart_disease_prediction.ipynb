{
 "cells": [
  {
   "cell_type": "code",
   "execution_count": 2,
   "metadata": {},
   "outputs": [
    {
     "name": "stderr",
     "output_type": "stream",
     "text": [
      "C:\\Users\\Manju\\Anaconda3\\lib\\site-packages\\sklearn\\cross_validation.py:41: DeprecationWarning: This module was deprecated in version 0.18 in favor of the model_selection module into which all the refactored classes and functions are moved. Also note that the interface of the new CV iterators are different from that of this module. This module will be removed in 0.20.\n",
      "  \"This module will be removed in 0.20.\", DeprecationWarning)\n"
     ]
    }
   ],
   "source": [
    "from numpy import genfromtxt\n",
    "import numpy as np\n",
    "import matplotlib\n",
    "matplotlib.use('TKAgg')\n",
    "import matplotlib.pyplot as plt\n",
    "from sklearn.svm import LinearSVC\n",
    "from sklearn.decomposition import PCA\n",
    "import pylab as pl\n",
    "from itertools import cycle\n",
    "from sklearn import cross_validation\n",
    "from sklearn.svm import SVC"
   ]
  },
  {
   "cell_type": "code",
   "execution_count": 86,
   "metadata": {},
   "outputs": [],
   "source": [
    "dataset=genfromtxt('heart_dis.csv',dtype=float,delimiter=',')"
   ]
  },
  {
   "cell_type": "code",
   "execution_count": 87,
   "metadata": {},
   "outputs": [
    {
     "data": {
      "text/plain": [
       "array([[63.,  1.,  1., ...,  0.,  6.,  0.],\n",
       "       [67.,  1.,  4., ...,  3.,  3.,  2.],\n",
       "       [67.,  1.,  4., ...,  2.,  7.,  1.],\n",
       "       ...,\n",
       "       [57.,  1.,  4., ...,  1.,  7.,  3.],\n",
       "       [57.,  0.,  2., ...,  1.,  3.,  1.],\n",
       "       [38.,  1.,  3., ...,  2.,  3.,  0.]])"
      ]
     },
     "execution_count": 87,
     "metadata": {},
     "output_type": "execute_result"
    }
   ],
   "source": [
    "dataset"
   ]
  },
  {
   "cell_type": "code",
   "execution_count": 88,
   "metadata": {},
   "outputs": [],
   "source": [
    "X=dataset[:,0:12]\n",
    "Y=dataset[:,13]"
   ]
  },
  {
   "cell_type": "code",
   "execution_count": 89,
   "metadata": {},
   "outputs": [
    {
     "name": "stdout",
     "output_type": "stream",
     "text": [
      "[0. 1. 1. 0. 0. 0. 1. 0. 1. 1. 0. 0. 1. 0. 0. 0. 1. 0. 0. 0. 0. 0. 1. 1.\n",
      " 1. 0. 0. 0. 0. 1. 0. 1. 1. 0. 0. 0. 1. 1. 1. 0. 1. 0. 0. 0. 1. 1. 0. 1.\n",
      " 0. 0. 0. 0. 1. 0. 1. 1. 1. 1. 0. 0. 1. 0. 1. 0. 1. 1. 1. 0. 1. 1. 0. 1.\n",
      " 1. 1. 1. 0. 1. 0. 0. 1. 0. 0. 0. 1. 0. 0. 0. 0. 0. 0. 0. 1. 0. 0. 0. 1.\n",
      " 1. 1. 0. 0. 0. 0. 0. 0. 1. 0. 1. 1. 1. 1. 1. 1. 0. 1. 1. 0. 0. 0. 1. 1.\n",
      " 1. 1. 0. 1. 1. 0. 1. 1. 0. 0. 0. 0. 0. 0. 0. 0. 1. 1. 1. 0. 0. 1. 0. 1.\n",
      " 0. 1. 1. 0. 0. 0. 0. 0. 0. 1. 1. 1. 1. 1. 1. 0. 0. 1. 0. 0. 0. 0. 0. 0.\n",
      " 1. 0. 1. 0. 1. 0. 1. 1. 0. 1. 0. 0. 1. 1. 0. 0. 1. 0. 0. 1. 1. 1. 0. 1.\n",
      " 1. 1. 0. 1. 0. 0. 0. 1. 0. 0. 0. 0. 0. 1. 1. 1. 0. 1. 0. 1. 0. 1. 1. 0.\n",
      " 0. 0. 0. 0. 0. 0. 0. 1. 1. 0. 0. 0. 1. 1. 0. 1. 1. 0. 0. 1. 1. 1. 0. 0.\n",
      " 0. 0. 0. 1. 0. 1. 1. 1. 1. 0. 0. 1. 0. 0. 0. 0. 0. 0. 0. 1. 0. 1. 0. 0.\n",
      " 1. 1. 1. 1. 1. 0. 1. 0. 1. 0. 1. 0. 0. 0. 1. 0. 1. 0. 1. 0. 1. 1. 1. 0.\n",
      " 0. 0. 1. 0. 1. 1. 1. 0. 1. 1. 1. 1. 1. 1. 0.]\n"
     ]
    }
   ],
   "source": [
    "for index,item in enumerate(Y):\n",
    "    #print(index,item)\n",
    "    if not(item==0.0):\n",
    "        Y[index]=1\n",
    "print(Y)\n",
    "target_names=['0','1']"
   ]
  },
  {
   "cell_type": "code",
   "execution_count": 90,
   "metadata": {},
   "outputs": [],
   "source": [
    "def plot_2D(data,target,target_names):\n",
    "    colors=cycle('rgbcmykw')\n",
    "    target_id=range(len(target_names))\n",
    "    plt.figure()\n",
    "    for i, c, label in zip(target_id,colors,target_names):\n",
    "        plt.scatter(data[target==i,0],data[target==i,1], c=c,label=label)\n",
    "        plt.legend()\n",
    "        plt.savefig('problem2graph')\n",
    "    "
   ]
  },
  {
   "cell_type": "code",
   "execution_count": 91,
   "metadata": {},
   "outputs": [],
   "source": [
    "modelSVM=LinearSVC(C=0.1)\n",
    "p=PCA(n_components=2,whiten=True).fit(X)\n",
    "xnew=p.transform(X)\n",
    "#print(xnew)"
   ]
  },
  {
   "cell_type": "code",
   "execution_count": 92,
   "metadata": {},
   "outputs": [],
   "source": [
    "plot_2D(xnew,Y,target_names)"
   ]
  },
  {
   "cell_type": "code",
   "execution_count": 93,
   "metadata": {},
   "outputs": [
    {
     "name": "stdout",
     "output_type": "stream",
     "text": [
      "0.6557377049180327\n"
     ]
    }
   ],
   "source": [
    "X_train, X_test,Y_train, Y_test=cross_validation.train_test_split(xnew,Y,test_size=0.2,train_size=0.8,random_state=0)\n",
    "modelSVM=modelSVM.fit(X_train, Y_train)\n",
    "print(modelSVM.score(X_test,Y_test))"
   ]
  },
  {
   "cell_type": "code",
   "execution_count": 94,
   "metadata": {},
   "outputs": [],
   "source": [
    "modelSVMraw=LinearSVC(C=0.1).fit(xnew,Y)"
   ]
  },
  {
   "cell_type": "code",
   "execution_count": 95,
   "metadata": {},
   "outputs": [
    {
     "name": "stdout",
     "output_type": "stream",
     "text": [
      "Linear SVC score without split\n",
      "1.0\n"
     ]
    }
   ],
   "source": [
    "count=0\n",
    "for i in modelSVMraw.predict(xnew):\n",
    "    if i==Y[int(i)]:\n",
    "        count=count+1\n",
    "print(\"Linear SVC score without split\")\n",
    "print(float(count)/303)"
   ]
  },
  {
   "cell_type": "code",
   "execution_count": 96,
   "metadata": {},
   "outputs": [
    {
     "name": "stdout",
     "output_type": "stream",
     "text": [
      "RBF score with split\n",
      "0.639344262295082\n"
     ]
    }
   ],
   "source": [
    "modelSVMrbf=SVC(C=0.1,kernel='rbf')\n",
    "X_train1, X_test1,Y_train1, Y_test1=cross_validation.train_test_split(xnew,Y,test_size=0.2,train_size=0.8,random_state=0)\n",
    "modelrbf=modelSVMrbf.fit(X_train1, Y_train1)\n",
    "print(\"RBF score with split\")\n",
    "print(modelrbf.score(X_test1,Y_test1))"
   ]
  },
  {
   "cell_type": "code",
   "execution_count": 97,
   "metadata": {},
   "outputs": [
    {
     "name": "stdout",
     "output_type": "stream",
     "text": [
      "RBF score without split\n",
      "1.0\n"
     ]
    }
   ],
   "source": [
    "SVM_rbf_ws=SVC(C=0.1,kernel='rbf')\n",
    "SVM_rbf_ws=SVM_rbf_ws.fit(xnew,Y)\n",
    "cnt=0\n",
    "for i in SVM_rbf_ws.predict(xnew):\n",
    "    if i==Y[int(i)]:\n",
    "        cnt=cnt+1\n",
    "print(\"RBF score without split\")\n",
    "print(float(cnt)/303)"
   ]
  },
  {
   "cell_type": "code",
   "execution_count": 98,
   "metadata": {},
   "outputs": [
    {
     "name": "stdout",
     "output_type": "stream",
     "text": [
      "Stratified k fold score\n",
      "0.5423728813559322\n"
     ]
    }
   ],
   "source": [
    "#using stratified kfold\n",
    "skf=cross_validation.StratifiedKFold(Y,n_folds=5)\n",
    "for train_index, test_index in skf:\n",
    "    x_train3,x_test3=X[train_index], X[test_index]\n",
    "    y_train3,y_test3=Y[train_index], Y[test_index]\n",
    "modelSVM3=SVC(C=0.1, kernel='rbf')\n",
    "modelSVM3=modelSVM3.fit(x_train3, y_train3)\n",
    "print(\"Stratified k fold score\")\n",
    "print(modelSVM3.score(x_test3,y_test3))"
   ]
  },
  {
   "cell_type": "code",
   "execution_count": 99,
   "metadata": {},
   "outputs": [
    {
     "name": "stdout",
     "output_type": "stream",
     "text": [
      "RBF score without split\n",
      "1.0\n"
     ]
    }
   ],
   "source": [
    "modelSVM3raw=SVC(C=0.1,kernel='rbf')\n",
    "modelSVM3raw=modelSVM3raw.fit(xnew,Y)\n",
    "ct=0\n",
    "for i in modelSVM3raw.predict(xnew):\n",
    "    if i==Y[int(i)]:\n",
    "        ct=ct+1\n",
    "print(\"RBF score without split\")\n",
    "print(float(cnt)/303)"
   ]
  },
  {
   "cell_type": "code",
   "execution_count": 100,
   "metadata": {},
   "outputs": [],
   "source": [
    "x_min, x_max =xnew[:,0].min() -1, xnew[:,0].max()+1\n",
    "y_min, y_max =xnew[:,1].min() -1, xnew[:,1].max()+1\n",
    "xx,yy=np.meshgrid(np.arange(x_min,x_max,0.2),np.arange(y_min,y_max,0.2))\n"
   ]
  },
  {
   "cell_type": "code",
   "execution_count": 101,
   "metadata": {},
   "outputs": [],
   "source": [
    "titles=\"SVC(RBF KERnel)-Plotting highest varied 2 PCA values\""
   ]
  },
  {
   "cell_type": "code",
   "execution_count": null,
   "metadata": {},
   "outputs": [],
   "source": [
    "plt.subplot(2,2,i+1)\n",
    "plt.subplots_adjust(wspace=0.4,hspace=0.4)\n",
    "Z=modelSVMrbf.predict(np.c_[xx.ravel(), yy.ravel()])\n",
    "Z=Z.reshape(xx.shape)\n",
    "plt.contourf(xx,yy,Z,cmap=plt.cm.Paired,alpha=0.8)\n",
    "plt.scatter(xnew[:,0],xnew[:,1],c=Y,cmap=plt.cm.coolwarm)\n",
    "plt.xlabel('PCA 1')\n",
    "plt.xlabel('PCA 2')\n",
    "plt.xlim(xx.min(),xx.max())\n",
    "plt.ylim(yy.min(),yy.max())\n",
    "plt.xticks(())\n",
    "plt.yticks(())\n",
    "plt.show()"
   ]
  },
  {
   "cell_type": "code",
   "execution_count": null,
   "metadata": {},
   "outputs": [],
   "source": []
  }
 ],
 "metadata": {
  "kernelspec": {
   "display_name": "Python 3",
   "language": "python",
   "name": "python3"
  },
  "language_info": {
   "codemirror_mode": {
    "name": "ipython",
    "version": 3
   },
   "file_extension": ".py",
   "mimetype": "text/x-python",
   "name": "python",
   "nbconvert_exporter": "python",
   "pygments_lexer": "ipython3",
   "version": "3.6.5"
  }
 },
 "nbformat": 4,
 "nbformat_minor": 2
}
